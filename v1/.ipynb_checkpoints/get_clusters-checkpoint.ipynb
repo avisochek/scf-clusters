{
 "cells": [
  {
   "cell_type": "code",
   "execution_count": 1,
   "metadata": {
    "collapsed": false
   },
   "outputs": [],
   "source": [
    "from sklearn.cluster import KMeans\n",
    "import pymongo\n",
    "from pymongo import MongoClient\n",
    "import numpy as np\n",
    "from matplotlib import pyplot as plt\n",
    "from firebase import firebase\n",
    "import json\n",
    "import pickle\n",
    "import math\n"
   ]
  },
  {
   "cell_type": "code",
   "execution_count": 2,
   "metadata": {
    "collapsed": false
   },
   "outputs": [],
   "source": [
    "client = MongoClient()\n",
    "db=client.nh4\n",
    "lngs=[]\n",
    "lats=[]\n",
    "ids=[]\n",
    "rtts=[]\n",
    "for issue in db.issues.find():\n",
    "    lats.append(issue[\"lat\"])\n",
    "    lngs.append(issue[\"lng\"])\n",
    "    ids.append(issue[\"id\"])\n",
    "    rtts.append(issue[\"request_type_title\"])\n"
   ]
  },
  {
   "cell_type": "code",
   "execution_count": null,
   "metadata": {
    "collapsed": true
   },
   "outputs": [],
   "source": [
    "clusters = {}\n",
    "for rtt in list(set(rtts)):\n",
    "     if not rtt==\"Post to Neighbors\":\n",
    "        #print rtt\n",
    "        clusters[rtt]={}\n",
    "        rttind=(np.array(rtts)==rtt).nonzero()[0]\n",
    "        rttlngs = np.array(lngs)[rttind]\n",
    "        rttlats = np.array(lats)[rttind]\n",
    "        cluster = KMeans(n_clusters=len(rttind)/10)\n",
    "        cluster.fit(np.array([rttlngs,rttlats]).transpose())\n",
    "        cluster_centers = cluster.cluster_centers_\n",
    "        cluster_labels = cluster.labels_\n",
    "        for cluster in list(set(cluster_labels)):\n",
    "            clusters[rtt][str(cluster)]=[]\n",
    "            clusterind=rttind[np.array(cluster_labels)==cluster]\n",
    "            for ID in np.array(ids)[np.array(clusterind)]:\n",
    "                issue = db.issues.find_one({\"id\":ID})\n",
    "                clusters[rtt][str(cluster)].append(issue)\n",
    "    #plt.figure()\n",
    "    #for i in range(len(cluster_centers)):\n",
    "    #    q = cluster_centers[i]\n",
    "        #plt.plot(q[0],q[1],'rx')\n",
    "    #print len((cluster_labels==i).nonzero()[0])\n",
    "        #for j in (np.array(rtts)==rtt).nonzero()[0]:\n",
    "    #    for k in np.array(cluster_labels==i).nonzero()[0]:\n",
    "        #print j\n",
    "    #        plt.plot(rttlngs[k],rttlats[k],'bo')\n",
    "        #print j\n",
    "    #    plt.plot(q[0],q[1],'rx')\n",
    "    #    plt.show()\n",
    "#plt.show()\n",
    "# for i in range(len(cluster_labels)):\n",
    "#        db.issues.update({\"id\",ids[i]},{\"$set\":{\"cluster\":cluster_labels[i]}})"
   ]
  },
  {
   "cell_type": "code",
   "execution_count": null,
   "metadata": {
    "collapsed": true
   },
   "outputs": [],
   "source": [
    "def sort_clusters(clustersd,scores):\n",
    "    sc = [i[0] for i in sorted(zip(clustersd, scores), key=lambda l: l[1], reverse=True)]\n",
    "    return sc"
   ]
  },
  {
   "cell_type": "code",
   "execution_count": null,
   "metadata": {
    "collapsed": false,
    "scrolled": false
   },
   "outputs": [],
   "source": [
    "for rtt,clustersd in clusters.items():\n",
    "    clusters[rtt]=clusters.pop(rtt).values()\n",
    "    scores=[]\n",
    "    for i in range(len(clusters[rtt])):\n",
    "        closed=0\n",
    "        opened=0\n",
    "        for j in range(len(clusters[rtt][i])):\n",
    "            if clusters[rtt][i][j][\"status\"]==\"Open\":\n",
    "                opened+=1\n",
    "            else:\n",
    "                closed+=1\n",
    "            meta=clusters[rtt][i][j]\n",
    "            geo=[clusters[rtt][i][j][\"lng\"],clusters[rtt][i][j][\"lat\"]]\n",
    "            clusters[rtt][i][j]={\"meta\":meta,\"geo\":geo}\n",
    "        scores.append(math.sqrt(float(opened+closed))*float(opened)/float(closed+opened))\n",
    "    clusters[rtt]=sort_clusters(clusters[rtt],scores)"
   ]
  },
  {
   "cell_type": "code",
   "execution_count": null,
   "metadata": {
    "collapsed": false
   },
   "outputs": [],
   "source": [
    "#clusters[\"Street Sweeping\"][0][0]"
   ]
  },
  {
   "cell_type": "code",
   "execution_count": null,
   "metadata": {
    "collapsed": true
   },
   "outputs": [],
   "source": [
    "#with open(\"ttclusters.json\",\"w\") as f:\n",
    "#    json.dump(clusters[\"Tree Trimming\"],f)"
   ]
  },
  {
   "cell_type": "code",
   "execution_count": 115,
   "metadata": {
    "collapsed": false
   },
   "outputs": [],
   "source": [
    "with open(\"nhclusters.json\",\"r\") as f:\n",
    "    clusters=json.load(f)"
   ]
  },
  {
   "cell_type": "code",
   "execution_count": null,
   "metadata": {
    "collapsed": false
   },
   "outputs": [],
   "source": [
    "#for j in clusters.values():\n",
    "#    for k in j.keys():\n",
    "#        print k"
   ]
  },
  {
   "cell_type": "code",
   "execution_count": 117,
   "metadata": {
    "collapsed": false
   },
   "outputs": [],
   "source": [
    "with open(\"nhclusters.json\",\"w\") as f:\n",
    "    json.dump([clusters[\"Tree Trimming\"],clusters[\"Potholes\"],clusters[\"Sidewalks and Curb damage\"],clusters[\"Traffic Signal   Pedestrian Signal\"]],f)"
   ]
  }
 ],
 "metadata": {
  "kernelspec": {
   "display_name": "Python 2",
   "language": "python",
   "name": "python2"
  },
  "language_info": {
   "codemirror_mode": {
    "name": "ipython",
    "version": 2
   },
   "file_extension": ".py",
   "mimetype": "text/x-python",
   "name": "python",
   "nbconvert_exporter": "python",
   "pygments_lexer": "ipython2",
   "version": "2.7.6"
  }
 },
 "nbformat": 4,
 "nbformat_minor": 0
}
